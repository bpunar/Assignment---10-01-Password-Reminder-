{
  "nbformat": 4,
  "nbformat_minor": 0,
  "metadata": {
    "colab": {
      "name": "Assignment - 10/03 (Armstrong Numbers).ipynb",
      "provenance": [],
      "authorship_tag": "ABX9TyMT54muLd2EU0Qf45LNN1Jn",
      "include_colab_link": true
    },
    "kernelspec": {
      "name": "python3",
      "display_name": "Python 3"
    },
    "language_info": {
      "name": "python"
    }
  },
  "cells": [
    {
      "cell_type": "markdown",
      "metadata": {
        "id": "view-in-github",
        "colab_type": "text"
      },
      "source": [
        "<a href=\"https://colab.research.google.com/github/bpunar/Assignment---10-01-Password-Reminder-/blob/main/Assignment_10_03_(Armstrong_Numbers).ipynb\" target=\"_parent\"><img src=\"https://colab.research.google.com/assets/colab-badge.svg\" alt=\"Open In Colab\"/></a>"
      ]
    },
    {
      "cell_type": "code",
      "metadata": {
        "id": "1eXmnRma06PK"
      },
      "source": [
        "number = input(\"enter a positive integer: \")\n",
        "power = len(number) \n",
        "summe = 0\n",
        "control =[]\n",
        "numeric = [\"0\", \"1\", \"2\", \"3\", \"4\", \"5\", \"6\", \"7\", \"8\",\"9\"]\n",
        "for i in list(number):\n",
        "  points = [1, 4, 2, 9, 7, 8, 9, 3, 1]\n",
        "  x = numeric.count(i)\n",
        "  control.append(x) \n",
        "if  not all(control):\n",
        "    print(\"It is an invalid entry.\\nDon't use non-numeric, float, or negative values!\")\n",
        "else:    \n",
        "  for i in list(number):\n",
        "    digit_sum = 0\n",
        "    i = int(i)\n",
        "    digit_sum = pow(i, power)\n",
        "    summe += digit_sum\n",
        "  number = int(number)  \n",
        "  if summe == number:\n",
        "    print('{} is an armstrong number.'.format(number))\n",
        "  else:\n",
        "    print('{} is not an armstrong number.'.format(number)) \n"
      ],
      "execution_count": null,
      "outputs": []
    }
  ]
}