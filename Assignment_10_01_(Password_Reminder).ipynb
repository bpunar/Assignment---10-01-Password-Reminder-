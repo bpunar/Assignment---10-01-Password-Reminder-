{
  "nbformat": 4,
  "nbformat_minor": 0,
  "metadata": {
    "colab": {
      "name": "Assignment - 10/01 (Password Reminder).ipynb",
      "provenance": [],
      "authorship_tag": "ABX9TyM7oBBpo/PrIaNYeSmOc0nc",
      "include_colab_link": true
    },
    "kernelspec": {
      "name": "python3",
      "display_name": "Python 3"
    },
    "language_info": {
      "name": "python"
    }
  },
  "cells": [
    {
      "cell_type": "markdown",
      "metadata": {
        "id": "view-in-github",
        "colab_type": "text"
      },
      "source": [
        "<a href=\"https://colab.research.google.com/github/bpunar/Assignment---10-01-Password-Reminder-/blob/main/Assignment_10_01_(Password_Reminder).ipynb\" target=\"_parent\"><img src=\"https://colab.research.google.com/assets/colab-badge.svg\" alt=\"Open In Colab\"/></a>"
      ]
    },
    {
      "cell_type": "code",
      "metadata": {
        "id": "loQCfVi5cbcT"
      },
      "source": [
        "sifre = \"W@12\"\n",
        "ad = \"Bekir\"\n",
        "kullanıcı = input (\"lütfen adınızı giriniz: \")\n",
        "if kullanıcı == ad:\n",
        "  print(\"Hello, {}! The password is : {}\".format(kullanıcı, sifre))\n",
        "else:\n",
        "  print(\"Hello, {} ! See you later.\".format(kullanıcı))  "
      ],
      "execution_count": null,
      "outputs": []
    }
  ]
}